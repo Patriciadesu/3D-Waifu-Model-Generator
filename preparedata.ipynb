{
 "cells": [
  {
   "cell_type": "markdown",
   "metadata": {},
   "source": [
    "## Run in blender"
   ]
  },
  {
   "cell_type": "code",
   "execution_count": 6,
   "metadata": {},
   "outputs": [],
   "source": [
    "import bpy\n",
    "import glob\n",
    "local_path = \"/Users/pataranansethpakdee/Documents/GitHub/\"\n",
    "vrm_filepath = local_path+\"3D-Waifu-Model-Generator/Datasets/3D_VRMModel/\"\n",
    "processed_filepath = local_path + \"3D-Waifu-Model-Generator/Datasets/3D_ProcessedModel/\"\n",
    "image_filepath = local_path + \"3D-Waifu-Model-Generator/Datasets/2D_Image/\"\n",
    "vrm_files = glob.glob(f'{vrm_filepath}*')\n",
    "\n",
    "def purge_orphans():\n",
    "    bpy.ops.outliner.orphans_purge(do_local_ids=True, do_linked_ids=True, do_recursive=True)\n",
    "\n",
    "def clean_scene():\n",
    "    scene = bpy.context.scene\n",
    "    bpy.data.scenes.new(\"Scene\")\n",
    "    bpy.data.scenes.remove(scene, do_unlink=True)\n",
    "    purge_orphans()\n",
    "    \n",
    "def set_new_camera():\n",
    "    scene = bpy.context.scene\n",
    "    cam_data = bpy.data.cameras.new(name=\"Camera\")\n",
    "    cam = bpy.data.objects.new(name=\"Camera\", object_data=cam_data)\n",
    "    scene.collection.objects.link(cam)\n",
    "    scene.camera = cam\n",
    "    cam.location = (0, -5.3, 0.8)\n",
    "    cam.rotation_euler = (1.5708, 0, 0) \n",
    "\n",
    "def new_scene():\n",
    "    clean_scene()\n",
    "    set_new_camera()\n",
    "\n",
    "count = 0\n",
    "\n",
    "for file in vrm_files:\n",
    "    \n",
    "    file_name = str(count).zfill(4)\n",
    "\n",
    "    clean_scene()\n",
    "    set_new_camera()\n",
    "    bpy.ops.import_scene.vrm(filepath=file)\n",
    "    scene = bpy.context.scene\n",
    "\n",
    "\n",
    "    # Render settings\n",
    "    scene.render.filepath = f'{image_filepath}{file_name}.png'\n",
    "    scene.render.image_settings.file_format = 'PNG'\n",
    "    scene.render.resolution_x = 1920\n",
    "    scene.render.resolution_y = 1080\n",
    "\n",
    "    # Render the image\n",
    "    bpy.ops.render.render(write_still=True)\n",
    "\n",
    "    bpy.ops.export_scene.gltf(filepath=f\"{processed_filepath}{file_name}.glb\")\n",
    "\n",
    "    count+=1\n",
    "\n"
   ]
  },
  {
   "cell_type": "markdown",
   "metadata": {},
   "source": [
    "# Preprocessing"
   ]
  },
  {
   "cell_type": "markdown",
   "metadata": {},
   "source": [
    "Run this in Window "
   ]
  },
  {
   "cell_type": "code",
   "execution_count": 2,
   "metadata": {},
   "outputs": [
    {
     "ename": "",
     "evalue": "",
     "output_type": "error",
     "traceback": [
      "\u001b[1;31mThe Kernel crashed while executing code in the current cell or a previous cell. \n",
      "\u001b[1;31mPlease review the code in the cell(s) to identify a possible cause of the failure. \n",
      "\u001b[1;31mClick <a href='https://aka.ms/vscodeJupyterKernelCrash'>here</a> for more info. \n",
      "\u001b[1;31mView Jupyter <a href='command:jupyter.viewOutput'>log</a> for further details."
     ]
    }
   ],
   "source": [
    "#Convert .ply to point cloud\n",
    "import open3d as o3d\n",
    "import glob , os\n",
    "ply_path = \"Datasets/3D_ProcessedModel\"\n",
    "ply_files = glob.glob(r\"Datasets/3D_ProcessedModel/*\")\n",
    "\n",
    "for file in ply_files:\n",
    "    file_name = (file.split('\\\\')[-1]).split(\".\")[0]\n",
    "    path = f\"{ply_path}/{file_name}.glb\"\n",
    "# Load the 3D model\n",
    "print(path)\n",
    "mesh = o3d.t.io.read_triangle_mesh('Datasets/untitled.fbx')\n",
    "\n",
    "# Sample points from the mesh surface\n",
    "pcd = mesh.sample_points_uniformly(number_of_points=100000)\n",
    "# pcd = o3d.geometry.PointCloud()\n",
    "# pcd.points = mesh.vertices\n",
    "# pcd.colors = mesh.vertex_colors\n",
    "# pcd.normals = mesh.vertex_normals\n",
    "# Save the point cloud\n",
    "o3d.io.write_point_cloud(f\"Processed_Data/3D_PointCloud/{file_name}.pts\",pcd)\n"
   ]
  },
  {
   "cell_type": "code",
   "execution_count": 1,
   "metadata": {},
   "outputs": [
    {
     "name": "stdout",
     "output_type": "stream",
     "text": [
      "hi\n"
     ]
    }
   ],
   "source": [
    "print('hi')"
   ]
  },
  {
   "cell_type": "markdown",
   "metadata": {},
   "source": []
  }
 ],
 "metadata": {
  "kernelspec": {
   "display_name": "myenv",
   "language": "python",
   "name": "python3"
  },
  "language_info": {
   "codemirror_mode": {
    "name": "ipython",
    "version": 3
   },
   "file_extension": ".py",
   "mimetype": "text/x-python",
   "name": "python",
   "nbconvert_exporter": "python",
   "pygments_lexer": "ipython3",
   "version": "3.11.9"
  }
 },
 "nbformat": 4,
 "nbformat_minor": 2
}
