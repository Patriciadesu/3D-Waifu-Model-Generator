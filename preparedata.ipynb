{
 "cells": [
  {
   "cell_type": "markdown",
   "metadata": {},
   "source": [
    "## Run with \"myenv\" or Python3.11"
   ]
  },
  {
   "cell_type": "code",
   "execution_count": 1,
   "metadata": {},
   "outputs": [
    {
     "ename": "AttributeError",
     "evalue": "Calling operator \"bpy.ops.import_scene.vrm\" error, could not be found",
     "output_type": "error",
     "traceback": [
      "\u001b[0;31m---------------------------------------------------------------------------\u001b[0m",
      "\u001b[0;31mAttributeError\u001b[0m                            Traceback (most recent call last)",
      "Cell \u001b[0;32mIn[1], line 8\u001b[0m\n\u001b[1;32m      3\u001b[0m \u001b[38;5;66;03m# Ensure the VRM add-on is enabled\u001b[39;00m\n\u001b[1;32m      4\u001b[0m \u001b[38;5;66;03m#bpy.ops.preferences.addon_enable(module='cats-blender-plugin')\u001b[39;00m\n\u001b[1;32m      5\u001b[0m \n\u001b[1;32m      6\u001b[0m \u001b[38;5;66;03m# Load the VRM model\u001b[39;00m\n\u001b[1;32m      7\u001b[0m vrm_filepath \u001b[38;5;241m=\u001b[39m \u001b[38;5;124m\"\u001b[39m\u001b[38;5;124mDatasets/3D_VRMModel/model.vrm\u001b[39m\u001b[38;5;124m\"\u001b[39m\n\u001b[0;32m----> 8\u001b[0m \u001b[43mbpy\u001b[49m\u001b[38;5;241;43m.\u001b[39;49m\u001b[43mops\u001b[49m\u001b[38;5;241;43m.\u001b[39;49m\u001b[43mimport_scene\u001b[49m\u001b[38;5;241;43m.\u001b[39;49m\u001b[43mvrm\u001b[49m\u001b[43m(\u001b[49m\u001b[43mfilepath\u001b[49m\u001b[38;5;241;43m=\u001b[39;49m\u001b[43mvrm_filepath\u001b[49m\u001b[43m)\u001b[49m\n\u001b[1;32m     10\u001b[0m \u001b[38;5;66;03m# Export the model to OBJ format\u001b[39;00m\n\u001b[1;32m     11\u001b[0m obj_filepath \u001b[38;5;241m=\u001b[39m \u001b[38;5;124m\"\u001b[39m\u001b[38;5;124mDatasets/3D_OBJModel/model.obj\u001b[39m\u001b[38;5;124m\"\u001b[39m\n",
      "File \u001b[0;32m~/Documents/GitHub/3D-Waifu-Model-Generator/myenv/lib/python3.11/site-packages/bpy/4.1/scripts/modules/bpy/ops.py:109\u001b[0m, in \u001b[0;36m_BPyOpsSubModOp.__call__\u001b[0;34m(self, *args, **kw)\u001b[0m\n\u001b[1;32m    107\u001b[0m     ret \u001b[38;5;241m=\u001b[39m _op_call(\u001b[38;5;28mself\u001b[39m\u001b[38;5;241m.\u001b[39midname_py(), kw, C_exec, C_undo)\n\u001b[1;32m    108\u001b[0m \u001b[38;5;28;01melse\u001b[39;00m:\n\u001b[0;32m--> 109\u001b[0m     ret \u001b[38;5;241m=\u001b[39m \u001b[43m_op_call\u001b[49m\u001b[43m(\u001b[49m\u001b[38;5;28;43mself\u001b[39;49m\u001b[38;5;241;43m.\u001b[39;49m\u001b[43midname_py\u001b[49m\u001b[43m(\u001b[49m\u001b[43m)\u001b[49m\u001b[43m,\u001b[49m\u001b[43m \u001b[49m\u001b[43mkw\u001b[49m\u001b[43m)\u001b[49m\n\u001b[1;32m    111\u001b[0m \u001b[38;5;28;01mif\u001b[39;00m \u001b[38;5;124m'\u001b[39m\u001b[38;5;124mFINISHED\u001b[39m\u001b[38;5;124m'\u001b[39m \u001b[38;5;129;01min\u001b[39;00m ret \u001b[38;5;129;01mand\u001b[39;00m context\u001b[38;5;241m.\u001b[39mwindow_manager \u001b[38;5;241m==\u001b[39m wm:\n\u001b[1;32m    112\u001b[0m     _BPyOpsSubModOp\u001b[38;5;241m.\u001b[39m_view_layer_update(context)\n",
      "\u001b[0;31mAttributeError\u001b[0m: Calling operator \"bpy.ops.import_scene.vrm\" error, could not be found"
     ]
    }
   ],
   "source": [
    "import bpy\n",
    "\n",
    "# Ensure the VRM add-on is enabled\n",
    "#bpy.ops.preferences.addon_enable(module='cats-blender-plugin')\n",
    "\n",
    "# Load the VRM model\n",
    "vrm_filepath = \"Datasets/3D_VRMModel/model.vrm\"\n",
    "bpy.ops.import_scene.vrm(filepath=vrm_filepath)\n",
    "\n",
    "# Export the model to OBJ format\n",
    "obj_filepath = \"Datasets/3D_OBJModel/model.obj\"\n",
    "bpy.ops.export_scene.obj(filepath=obj_filepath)\n",
    "\n",
    "# Load the exported OBJ model\n",
    "bpy.ops.import_scene.obj(filepath=obj_filepath)\n",
    "\n",
    "# Set up the scene\n",
    "scene = bpy.context.scene\n",
    "\n",
    "# Set up the camera for front view\n",
    "cam = bpy.data.objects['Camera']\n",
    "cam.location = (0, -5, 1.5)  # Adjust the Y and Z coordinates as necessary\n",
    "cam.rotation_euler = (1.5708, 0, 0)  # 90 degrees in radians for front view\n",
    "\n",
    "# Set up lighting\n",
    "light_data = bpy.data.lights.new(name=\"SunLight\", type='SUN')\n",
    "light_object = bpy.data.objects.new(name=\"SunLight\", object_data=light_data)\n",
    "scene.collection.objects.link(light_object)\n",
    "light_object.location = (5, -5, 5)\n",
    "light_object.rotation_euler = (1.5708, 0, 0.7854)  # Adjust as needed\n",
    "\n",
    "# Create a Toon Shader\n",
    "for obj in scene.objects:\n",
    "    if obj.type == 'MESH':\n",
    "        mat = bpy.data.materials.new(name=\"ToonShader\")\n",
    "        mat.use_nodes = True\n",
    "        nodes = mat.node_tree.nodes\n",
    "        links = mat.node_tree.links\n",
    "\n",
    "        # Clear default nodes\n",
    "        for node in nodes:\n",
    "            nodes.remove(node)\n",
    "\n",
    "        # Add Toon Shader nodes\n",
    "        output_node = nodes.new(type='ShaderNodeOutputMaterial')\n",
    "        diffuse_node = nodes.new(type='ShaderNodeBsdfDiffuse')\n",
    "        toon_shader = nodes.new(type='ShaderNodeShaderToRGB')\n",
    "        color_ramp = nodes.new(type='ShaderNodeValToRGB')\n",
    "\n",
    "        # Position nodes\n",
    "        output_node.location = (300, 0)\n",
    "        toon_shader.location = (0, 0)\n",
    "        diffuse_node.location = (-300, 0)\n",
    "        color_ramp.location = (150, 0)\n",
    "\n",
    "        # Link nodes\n",
    "        links.new(diffuse_node.outputs[0], toon_shader.inputs[0])\n",
    "        links.new(toon_shader.outputs[0], color_ramp.inputs[0])\n",
    "        links.new(color_ramp.outputs[0], output_node.inputs[0])\n",
    "\n",
    "        # Adjust color ramp for toon effect\n",
    "        color_ramp.color_ramp.elements[0].position = 0.4\n",
    "        color_ramp.color_ramp.elements[1].position = 0.6\n",
    "\n",
    "        # Assign material to object\n",
    "        obj.data.materials.append(mat)\n",
    "\n",
    "# Render settings\n",
    "scene.render.image_settings.file_format = 'PNG'\n",
    "scene.render.filepath = 'Datasets/2D_Image/image.png'\n",
    "scene.render.resolution_x = 1920\n",
    "scene.render.resolution_y = 1080\n",
    "\n",
    "# Render the image\n",
    "bpy.ops.render.render(write_still=True)\n"
   ]
  },
  {
   "cell_type": "code",
   "execution_count": 2,
   "metadata": {},
   "outputs": [
    {
     "name": "stdout",
     "output_type": "stream",
     "text": [
      "Add-on not loaded: \"io_scene_vrm\", cause: No module named 'io_scene_vrm'\n"
     ]
    },
    {
     "data": {
      "text/plain": [
       "{'CANCELLED'}"
      ]
     },
     "execution_count": 2,
     "metadata": {},
     "output_type": "execute_result"
    }
   ],
   "source": [
    "bpy.ops.preferences.addon_enable(module='io_scene_vrm')"
   ]
  },
  {
   "cell_type": "code",
   "execution_count": null,
   "metadata": {},
   "outputs": [],
   "source": [
    "bpy.ops.import_scene."
   ]
  }
 ],
 "metadata": {
  "kernelspec": {
   "display_name": "myenv",
   "language": "python",
   "name": "python3"
  },
  "language_info": {
   "codemirror_mode": {
    "name": "ipython",
    "version": 3
   },
   "file_extension": ".py",
   "mimetype": "text/x-python",
   "name": "python",
   "nbconvert_exporter": "python",
   "pygments_lexer": "ipython3",
   "version": "3.11.0"
  }
 },
 "nbformat": 4,
 "nbformat_minor": 2
}
