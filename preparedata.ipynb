{
 "cells": [
  {
   "cell_type": "markdown",
   "metadata": {},
   "source": [
    "## Run in blender"
   ]
  },
  {
   "cell_type": "code",
   "execution_count": 1,
   "metadata": {},
   "outputs": [
    {
     "ename": "ModuleNotFoundError",
     "evalue": "No module named 'numpy'",
     "output_type": "error",
     "traceback": [
      "\u001b[0;31m---------------------------------------------------------------------------\u001b[0m",
      "\u001b[0;31mModuleNotFoundError\u001b[0m                       Traceback (most recent call last)",
      "\u001b[0;31mModuleNotFoundError\u001b[0m: No module named 'numpy'"
     ]
    },
    {
     "name": "stdout",
     "output_type": "stream",
     "text": [
      "Unable to initialise audio\n"
     ]
    },
    {
     "ename": "ImportError",
     "evalue": "numpy.core.multiarray failed to import",
     "output_type": "error",
     "traceback": [
      "\u001b[0;31m---------------------------------------------------------------------------\u001b[0m",
      "\u001b[0;31mImportError\u001b[0m                               Traceback (most recent call last)",
      "\u001b[0;31mImportError\u001b[0m: numpy.core.multiarray failed to import"
     ]
    },
    {
     "ename": "AttributeError",
     "evalue": "Calling operator \"bpy.ops.import_scene.vrm\" error, could not be found",
     "output_type": "error",
     "traceback": [
      "\u001b[0;31m---------------------------------------------------------------------------\u001b[0m",
      "\u001b[0;31mAttributeError\u001b[0m                            Traceback (most recent call last)",
      "Cell \u001b[0;32mIn[1], line 8\u001b[0m\n\u001b[1;32m      3\u001b[0m \u001b[38;5;66;03m# Ensure the VRM add-on is enabled\u001b[39;00m\n\u001b[1;32m      4\u001b[0m \u001b[38;5;66;03m#bpy.ops.preferences.addon_enable(module='cats-blender-plugin')\u001b[39;00m\n\u001b[1;32m      5\u001b[0m \n\u001b[1;32m      6\u001b[0m \u001b[38;5;66;03m# Load the VRM model\u001b[39;00m\n\u001b[1;32m      7\u001b[0m vrm_filepath \u001b[38;5;241m=\u001b[39m \u001b[38;5;124m\"\u001b[39m\u001b[38;5;124mDatasets/3D_VRMModel/NULL_NULL(26).vrm\u001b[39m\u001b[38;5;124m\"\u001b[39m\n\u001b[0;32m----> 8\u001b[0m \u001b[43mbpy\u001b[49m\u001b[38;5;241;43m.\u001b[39;49m\u001b[43mops\u001b[49m\u001b[38;5;241;43m.\u001b[39;49m\u001b[43mimport_scene\u001b[49m\u001b[38;5;241;43m.\u001b[39;49m\u001b[43mvrm\u001b[49m\u001b[43m(\u001b[49m\u001b[43mfilepath\u001b[49m\u001b[38;5;241;43m=\u001b[39;49m\u001b[43mvrm_filepath\u001b[49m\u001b[43m)\u001b[49m\n\u001b[1;32m     10\u001b[0m \u001b[38;5;66;03m# Export the model to OBJ format\u001b[39;00m\n\u001b[1;32m     11\u001b[0m obj_filepath \u001b[38;5;241m=\u001b[39m \u001b[38;5;124m\"\u001b[39m\u001b[38;5;124mDatasets/3D_OBJModel/model.obj\u001b[39m\u001b[38;5;124m\"\u001b[39m\n",
      "File \u001b[0;32m~/Documents/GitHub/3D-Waifu-Model-Generator/bpy/4.3/scripts/modules/bpy/ops.py:109\u001b[0m, in \u001b[0;36m_BPyOpsSubModOp.__call__\u001b[0;34m(self, *args, **kw)\u001b[0m\n\u001b[1;32m    107\u001b[0m     ret \u001b[38;5;241m=\u001b[39m _op_call(\u001b[38;5;28mself\u001b[39m\u001b[38;5;241m.\u001b[39midname_py(), kw, C_exec, C_undo)\n\u001b[1;32m    108\u001b[0m \u001b[38;5;28;01melse\u001b[39;00m:\n\u001b[0;32m--> 109\u001b[0m     ret \u001b[38;5;241m=\u001b[39m \u001b[43m_op_call\u001b[49m\u001b[43m(\u001b[49m\u001b[38;5;28;43mself\u001b[39;49m\u001b[38;5;241;43m.\u001b[39;49m\u001b[43midname_py\u001b[49m\u001b[43m(\u001b[49m\u001b[43m)\u001b[49m\u001b[43m,\u001b[49m\u001b[43m \u001b[49m\u001b[43mkw\u001b[49m\u001b[43m)\u001b[49m\n\u001b[1;32m    111\u001b[0m \u001b[38;5;28;01mif\u001b[39;00m \u001b[38;5;124m'\u001b[39m\u001b[38;5;124mFINISHED\u001b[39m\u001b[38;5;124m'\u001b[39m \u001b[38;5;129;01min\u001b[39;00m ret \u001b[38;5;129;01mand\u001b[39;00m context\u001b[38;5;241m.\u001b[39mwindow_manager \u001b[38;5;241m==\u001b[39m wm:\n\u001b[1;32m    112\u001b[0m     _BPyOpsSubModOp\u001b[38;5;241m.\u001b[39m_view_layer_update(context)\n",
      "\u001b[0;31mAttributeError\u001b[0m: Calling operator \"bpy.ops.import_scene.vrm\" error, could not be found"
     ]
    }
   ],
   "source": [
    "import bpy\n",
    "\n",
    "vrm_filepath = \"/Users/pataranansethpakdee/Documents/GitHub/3D-Waifu-Model-Generator/Datasets/3D_VRMModel/NULL_NULL(26).vrm\"\n",
    "ply_filepath = \"/Users/pataranansethpakdee/Documents/GitHub/3D-Waifu-Model-Generator/Datasets/3D_PLYModel/model.\"\n",
    "bpy.ops.import_scene.vrm(filepath=vrm_filepath)\n",
    "\n",
    "# Export the model to OBJ format\n",
    "\n",
    "# Set up the scene\n",
    "scene = bpy.context.scene\n",
    "\n",
    "# Set up the camera for front view\n",
    "cam = bpy.data.objects['Camera']\n",
    "cam.location = (0, -5.3, 0.8)  # Adjust the Y and Z coordinates as necessary\n",
    "cam.rotation_euler = (1.5708, 0, 0)  # 90 degrees in radians for front view\n",
    "\n",
    "# Set up lighting\n",
    "light_data = bpy.data.lights.new(name=\"SunLight\", type='SUN')\n",
    "light_object = bpy.data.objects.new(name=\"SunLight\", object_data=light_data)\n",
    "scene.collection.objects.link(light_object)\n",
    "light_object.location = (5, -5, 5)\n",
    "light_object.rotation_euler = (1.5708, 0, 0.7854)  # Adjust as needed\n",
    "\n",
    "# Render settings\n",
    "scene.render.filepath = '/Users/pataranansethpakdee/Documents/GitHub/3D-Waifu-Model-Generator/Datasets/2D_Image/image.png'\n",
    "scene.render.image_settings.file_format = 'PNG'\n",
    "scene.render.resolution_x = 1920\n",
    "scene.render.resolution_y = 1080\n",
    "\n",
    "# Render the image\n",
    "bpy.ops.render.render(write_still=True)\n",
    "\n",
    "bpy.ops.wm._export(filepath=obj_filepath, use_materials=False)\n"
   ]
  },
  {
   "cell_type": "code",
   "execution_count": null,
   "metadata": {},
   "outputs": [],
   "source": []
  }
 ],
 "metadata": {
  "kernelspec": {
   "display_name": "myenv",
   "language": "python",
   "name": "python3"
  },
  "language_info": {
   "codemirror_mode": {
    "name": "ipython",
    "version": 3
   },
   "file_extension": ".py",
   "mimetype": "text/x-python",
   "name": "python",
   "nbconvert_exporter": "python",
   "pygments_lexer": "ipython3",
   "version": "3.11.0"
  }
 },
 "nbformat": 4,
 "nbformat_minor": 2
}
